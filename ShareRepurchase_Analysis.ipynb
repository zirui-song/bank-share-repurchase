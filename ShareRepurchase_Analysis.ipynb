{
 "cells": [
  {
   "cell_type": "code",
   "execution_count": null,
   "metadata": {},
   "outputs": [],
   "source": []
  },
  {
   "cell_type": "markdown",
   "metadata": {},
   "source": [
    "## Set Up"
   ]
  },
  {
   "cell_type": "code",
   "execution_count": 1,
   "metadata": {},
   "outputs": [],
   "source": [
    "#%% Packages \n",
    "import wrds\n",
    "import datetime\n",
    "import pandas as pd\n",
    "import numpy as np\n",
    "import matplotlib.pyplot as plt\n",
    "plt.rcParams['figure.figsize'] = [10, 6]\n",
    "\n",
    "# Setups\n",
    "pd.set_option(\"display.max_rows\", 200) # max number or rows to be displayed "
   ]
  },
  {
   "cell_type": "code",
   "execution_count": null,
   "metadata": {},
   "outputs": [],
   "source": [
    "#%% Set WRDS Connection\n",
    "db = wrds.Connection(wrds_username='zrsong') # make sure to configure wrds connector before hand."
   ]
  },
  {
   "cell_type": "markdown",
   "metadata": {},
   "source": [
    "### All tables in compm"
   ]
  },
  {
   "cell_type": "code",
   "execution_count": null,
   "metadata": {},
   "outputs": [],
   "source": [
    "compm_tables = db.list_tables(library=\"comp\") # compd: Compustat daily update "
   ]
  },
  {
   "cell_type": "code",
   "execution_count": null,
   "metadata": {},
   "outputs": [],
   "source": [
    "pd.DataFrame({'tables':compm_tables}).head(20) # Transform libs to a Pandas data frame to have a better display."
   ]
  },
  {
   "cell_type": "markdown",
   "metadata": {},
   "source": [
    "### All variables in compm.funda"
   ]
  },
  {
   "cell_type": "code",
   "execution_count": null,
   "metadata": {},
   "outputs": [],
   "source": [
    "db.describe_table(library=\"comp\", table=\"funda\")"
   ]
  },
  {
   "cell_type": "markdown",
   "metadata": {},
   "source": [
    "#### Where to check variable definitions?\n",
    "1. [Xpressfeed Data Items](https://wrds-web.wharton.upenn.edu/wrds/support/Data/_001Manuals%20and%20Overviews/_001Compustat/_001North%20America%20-%20Global%20-%20Bank/_000dataguide/index.cfm?_ga=2.238205512.977702200.1550764493-1500651139.1501534854)\n",
    "2. WRDS website: go to the (?) sign\n",
    "3. What if we want to replicate a paper that says:\n",
    "\n",
    "   \"Earnings (E) is income before extraordinary items (Item 18) plus income statement deferred taxes (Item 50) minus preferred dividends (Item 19), if earnings are positive;\" [Baker and Wurgler, JF 2006](https://onlinelibrary.wiley.com/doi/epdf/10.1111/j.1540-6261.2006.00885.x)\n",
    "\n",
    "    * All previous documentation does not contain ITEM numbers\n",
    "    * These are the legacy CST item numbers\n",
    "    * You can find item reference [here](http://www.crsp.com/products/documentation/annual-data-industrial).\n",
    "    \n",
    "    "
   ]
  },
  {
   "cell_type": "markdown",
   "metadata": {},
   "source": [
    "**Objective**\n",
    "\n",
    "Create a data frame with company fundamentals necessary to replicate FF 2015:\n",
    "\n",
    "1. Book Equity (BE)\n",
    "2. Operating Profits (OP)\n",
    "3. Investment (INV)"
   ]
  },
  {
   "cell_type": "markdown",
   "metadata": {},
   "source": [
    "# Choose variables of interest"
   ]
  },
  {
   "cell_type": "markdown",
   "metadata": {},
   "source": [
    "Compustat XpressFeed Variables 1/5:  \n",
    "* AT      = Total Assets  \n",
    "* CAPX    = Capital Expenditures  \n",
    "* CEQ     = Common/Ordinary Equity - Total \n",
    "* COGS    = Cost of Goods Sold\n",
    "* CSHO    = Common Shares Outstanding\n",
    "* DLC     = Debt in Current Liabilities \n",
    "* DLCCH   = Current Debt - Changes\n",
    "* DLTT    = Long-Term Debt - Total"
   ]
  },
  {
   "cell_type": "markdown",
   "metadata": {},
   "source": [
    "Compustat XpressFeed Variables 2/5:\n",
    "* DP      = Depreciation and Amortization\n",
    "* DVC     = Divdends common/ordinary  \n",
    "* DVP     = Dividends - Preferred/Preference\n",
    "* GP      = Gross Profits\n",
    "* IB      = Income Before Extraordinary Items\n",
    "* ICAPT   = Invested Capital - Total\n",
    "* ITCB    = Investment Tax Credit (Balance Sheet)  \n",
    "* LT      = Total Liabilities"
   ]
  },
  {
   "cell_type": "markdown",
   "metadata": {},
   "source": [
    "Compustat XpressFeed Variables 3/5:\n",
    "* MIB     = Minority Interest (Balance Sheet)\n",
    "* NAICS   = North American Industrial Classification System Variable Name\n",
    "* NAICSH  = North American Industry Classification Codes - Historical Company Variable Name\n",
    "* NI      = Net Income\n",
    "* PPEGT   = \"Property, Plant and Equipment - Total (Gross)\"\n",
    "* PRBA    = Postretirement Benefit Assets (from separate pension annual file) \n",
    "* PRSTKCC = Purchase of Common Stock (Cash Flow)                   \n",
    "* PSTKRV  = Preferred Stock Redemption Value"
   ]
  },
  {
   "cell_type": "markdown",
   "metadata": {},
   "source": [
    "Compustat XpressFeed Variables 4/5:\n",
    "* PSTK    = Preferred/Preference Stock (Capital) - Total (kd: = par?)               \n",
    "* PSTKL   = Preferred Stock Liquidating Value     \n",
    "* PSTKRV  = Preferred Stock Liquidating Value          \n",
    "* RE      = Retained Earnings\n",
    "* REVT    = Revenue - Total\n",
    "* SALE    = Sales/Turnover Net\n",
    "* SEQ     = Shareholders Equity   \n",
    "* SIC     = Standard Industrial Classification Code"
   ]
  },
  {
   "cell_type": "markdown",
   "metadata": {},
   "source": [
    "Compustat XpressFeed Variables 5/5:\n",
    "* TXDB    = Deferred Taxes Balance Sheet\n",
    "* TXDI    = Income Taxes - Deferred\n",
    "* TXDITC  = Deferred Taxes and Investment Tax Credit                        \n",
    "* WCAPCH  = Working Capital Change - Total\n",
    "* XINT    = Interest and Related Expense - Total \n",
    "* XLR     = Staff Expense - Total\n",
    "* XRD     = Research and Development Expense \n",
    "* XSGAQ   = Selling, General and Administrative Expenses (millions)  "
   ]
  },
  {
   "cell_type": "markdown",
   "metadata": {},
   "source": [
    "# Download Compustat FUNDA"
   ]
  },
  {
   "cell_type": "code",
   "execution_count": null,
   "metadata": {},
   "outputs": [],
   "source": [
    "fund_table = 'funda'\n",
    "\n",
    "varlist = ['conm', 'tic', 'cusip','fyear', 'fyr', 'at','capx', 'ceq', 'cogs', 'csho', 'dlc', 'dlcch','dltt', 'dp', 'ib', 'itcb', \n",
    "           'lt', 'mib', 'naicsh', 'ni', 'prstkcc', 'pstk', 'pstkl', 'pstkrv', 're', 'revt', 'sale',\n",
    "           'seq', 'sich', 'txdb', 'txdi', 'txditc', 'wcapch', 'xint', 'xlr', 'xrd', 'xsga', 'tstk', 'prstkc', 'sstk', 'dvc']\n",
    "\n",
    "\n",
    "query = \"\"\"SELECT gvkey, datadate, {}\n",
    "           FROM comp.{}\n",
    "           WHERE datafmt = 'STD'\n",
    "           AND popsrc = 'D'\n",
    "           AND indfmt = 'INDL'\n",
    "           AND consol = 'C'\n",
    "           AND fyear>=1980;\"\"\".format(\", \".join(varlist), fund_table)\n",
    "\n",
    "compa = db.raw_sql(query, date_cols=['datadate'])\n",
    "\n",
    "del(fund_table, varlist, query)"
   ]
  },
  {
   "cell_type": "markdown",
   "metadata": {},
   "source": [
    "Always look at your data"
   ]
  },
  {
   "cell_type": "code",
   "execution_count": null,
   "metadata": {},
   "outputs": [],
   "source": [
    "# Gerneral Look\n",
    "compa.head()  \n",
    "compa.columns"
   ]
  },
  {
   "cell_type": "code",
   "execution_count": null,
   "metadata": {},
   "outputs": [],
   "source": [
    "# Have a sense about missings\n",
    "compa['at'].isnull().mean()*100"
   ]
  },
  {
   "cell_type": "code",
   "execution_count": null,
   "metadata": {},
   "outputs": [],
   "source": [
    "compa.gvkey.nunique()"
   ]
  },
  {
   "cell_type": "code",
   "execution_count": null,
   "metadata": {},
   "outputs": [],
   "source": [
    "compa.groupby('fyear').gvkey.nunique()"
   ]
  },
  {
   "cell_type": "markdown",
   "metadata": {},
   "source": [
    "# Data Consistency "
   ]
  },
  {
   "cell_type": "markdown",
   "metadata": {},
   "source": [
    "## Primary Keys\n",
    "\n",
    "\n",
    "* We are looking at Annual data\n",
    "* Logic says that that we should have one company (gvkey) per year (fyear)\n",
    "* But remember, the primary key for funda is (gvkey and datadate)\n",
    "* Question: Can a firm have two datadate for the same year?\n"
   ]
  },
  {
   "cell_type": "code",
   "execution_count": null,
   "metadata": {},
   "outputs": [],
   "source": [
    "# It is always good to check if we have the right PK\n",
    "compa.duplicated(['gvkey', 'datadate']).sum()"
   ]
  },
  {
   "cell_type": "code",
   "execution_count": null,
   "metadata": {},
   "outputs": [],
   "source": [
    "# Is (gvkey, fyear) PK?\n",
    "compa[compa.duplicated(['gvkey', 'fyear'])]"
   ]
  },
  {
   "cell_type": "code",
   "execution_count": null,
   "metadata": {},
   "outputs": [],
   "source": [
    "compa[compa.gvkey=='006557']"
   ]
  },
  {
   "cell_type": "code",
   "execution_count": null,
   "metadata": {},
   "outputs": [],
   "source": [
    "# Check duplicates\n",
    "compa[compa.duplicated(['gvkey', 'fyear'],keep='last')]"
   ]
  },
  {
   "cell_type": "code",
   "execution_count": null,
   "metadata": {},
   "outputs": [],
   "source": [
    "# Example of a company that have two reports for the same year\n",
    "compa.loc[compa.gvkey=='006557',['gvkey','datadate','fyear','fyr','conm', 'at']]"
   ]
  },
  {
   "cell_type": "code",
   "execution_count": null,
   "metadata": {},
   "outputs": [],
   "source": [
    "# How to deal with duplicates? Keep last available entry (datadate)\n",
    "compa.dropna(subset=['fyear'], inplace=True)\n",
    "compa.sort_values(['gvkey','fyear','at'], inplace=True)\n",
    "compa = compa[~compa.duplicated(['gvkey', 'fyear'], keep='first')]"
   ]
  },
  {
   "cell_type": "code",
   "execution_count": null,
   "metadata": {},
   "outputs": [],
   "source": [
    "# Always check your result\n",
    "compa.duplicated(['gvkey', 'fyear']).sum()"
   ]
  },
  {
   "cell_type": "markdown",
   "metadata": {},
   "source": [
    "# Calculate Variables of Interest"
   ]
  },
  {
   "cell_type": "markdown",
   "metadata": {},
   "source": [
    "## Book Equity\n",
    "\n",
    "Daniel, Mota, Rottke, Santos (RFS, 2020) BE definition:\n",
    "\n",
    "Stockholders book equity, minus the book value of preferred stock, plus balance sheet deferred taxes (if available and fiscal year is < 1993), minus investment tax credit (if available), minus post-retirement benefit assets (PRBA) if available. \n",
    "\n",
    "Stockholders book equity is shareholder equity (SEQ), common equity (CEQ) plus preferred stock (PSTK) or total\n",
    "assets (AT) minus liabilities (LT) plus minority interest (MIB, if available) (depending on availability, in that order). \n",
    "\n",
    "Book value of preferred stock is redemption (PSTKRV), liquidation (PSTKL), or par value (PSTK) (depending on availability, in that order). \n",
    "\n",
    "Deferred taxes is deferred taxes and investment tax credit (TXDITC) or deferred taxes and investment tax credit (TXDB) plus investment tax credit (ITCB) (depending on availability, in that order).\n"
   ]
  },
  {
   "cell_type": "code",
   "execution_count": null,
   "metadata": {},
   "outputs": [],
   "source": [
    "#%% Calculating BE\n",
    "\n",
    "# Shareholder Equity\n",
    "compa['se'] = compa['seq']\n",
    "\n",
    "# Uses Common Equity (ceq) + Preferred Stock (pstk) if SEQ is missing:\n",
    "compa.fillna({'se': compa['ceq'] + compa['pstk']}, inplace=True)\n",
    "\n",
    "# Uses Total Assets (at) - Liabilities (lt) + Minority Interest (mib, if available), if others are missing\n",
    "compa.fillna({'se': compa['at'] - compa['lt'] + compa['mib'].fillna(0)}, inplace=True)"
   ]
  },
  {
   "cell_type": "code",
   "execution_count": null,
   "metadata": {},
   "outputs": [],
   "source": [
    "# Preferred Stock\n",
    "# Preferred Stock (Redemption Value)\n",
    "compa['ps'] = compa['pstkrv']\n",
    "# Uses Preferred Stock (Liquidating Value (pstkl)) if Preferred Stock (Redemption Value) is missing\n",
    "compa.fillna({'ps': compa['pstkl']}, inplace=True)\n",
    "# Uses Preferred Stock (Carrying Value (pstk)) if others are missing\n",
    "compa.fillna({'ps': compa['pstk']}, inplace=True)"
   ]
  },
  {
   "cell_type": "code",
   "execution_count": null,
   "metadata": {},
   "outputs": [],
   "source": [
    "# Deferred Taxes\n",
    "# Uses Deferred Taxes and Investment Tax Credit (txditc)\n",
    "compa['dt'] = compa['txditc']\n",
    "\n",
    "# This was Novy-Marx old legacy code. We drop this part to be in accordance with Ken French.\n",
    "# Uses Deferred Taxes and Investment Tax Credit(txdb) + Investment Tax Credit (Balance Sheet) (itcb) if txditc is missing\n",
    "compa.fillna({'dt' : (compa['txdb'].fillna(0) + compa['itcb'].fillna(0))}, inplace=True)\n",
    "# If all measures are missing, set n  to missing\n",
    "compa.loc[pd.isnull(compa['txditc']) & pd.isnull(compa['txdb']) & pd.isnull(compa['itcb']), 'dt'] = np.nan\n",
    "\n",
    "compa.loc[compa['fyear'] >= 1993, 'dt'] = 0"
   ]
  },
  {
   "cell_type": "code",
   "execution_count": null,
   "metadata": {},
   "outputs": [],
   "source": [
    "# Book Equity\n",
    "# Book Equity (BE) = Share Equity (se) - Prefered Stocks (ps) + Deferred Taxes (dt)\n",
    "compa['be'] = (compa['se']  # shareholder equity must be available, otherwise BE is missing\n",
    "               - compa['ps']  # preferred stock must be available, otherwise BE is missing\n",
    "               + compa['dt'].fillna(0))  # add deferred taxes if available\n",
    "               #- compa['prba'].fillna(0))  # subtract postretirement benefit assets if available"
   ]
  },
  {
   "cell_type": "code",
   "execution_count": null,
   "metadata": {},
   "outputs": [],
   "source": [
    "# check for variables be, se, ps, dt\n",
    "compa.ps.isnull().mean()  "
   ]
  },
  {
   "cell_type": "markdown",
   "metadata": {},
   "source": [
    "**Always look at your data...**"
   ]
  },
  {
   "cell_type": "code",
   "execution_count": null,
   "metadata": {},
   "outputs": [],
   "source": [
    "# Missings\n",
    "compa.be.isnull().mean()  "
   ]
  },
  {
   "cell_type": "code",
   "execution_count": null,
   "metadata": {},
   "outputs": [],
   "source": [
    "compa.be.hist() "
   ]
  },
  {
   "cell_type": "code",
   "execution_count": null,
   "metadata": {},
   "outputs": [],
   "source": [
    "# Does it make sense to have a negative BE?\n",
    "(compa.be<0).mean()   "
   ]
  },
  {
   "cell_type": "code",
   "execution_count": null,
   "metadata": {},
   "outputs": [],
   "source": [
    "compa[compa.be>0].be.hist()"
   ]
  },
  {
   "cell_type": "code",
   "execution_count": null,
   "metadata": {},
   "outputs": [],
   "source": [
    "compa[(compa.be>0)&(compa.be<10e3)&(compa.fyear==2017)].be.hist()"
   ]
  },
  {
   "cell_type": "markdown",
   "metadata": {},
   "source": [
    "## Operating Profitability (OPBE)\n",
    "\n",
    "Daniel, Mota, Rottke, Santos (RFS, 2020) OPBE definition:\n",
    "\n",
    "Operating profits to book equity (BE) ratio. \n",
    "\n",
    "Operating profits is sales (SALE) minus cost of goods sold (COGS), minus selling, general, and administrative expenses (XSGA),\n",
    "minus interest expense (XINT). In order to be non-missing, SALE must be non-missing, at least one of the other entries must be non-missing and BE must be greater than zero."
   ]
  },
  {
   "cell_type": "code",
   "execution_count": null,
   "metadata": {},
   "outputs": [],
   "source": [
    "# COST = COGS + XSGA + XINT \n",
    "compa['cost'] = compa[['cogs', 'xsga', 'xint']].sum(axis=1, skipna=True)\n",
    "compa.loc[compa[['cogs', 'xsga', 'xint']].isnull().all(axis=1), 'cost'] = np.nan"
   ]
  },
  {
   "cell_type": "code",
   "execution_count": null,
   "metadata": {},
   "outputs": [],
   "source": [
    "# OP = SALE -COST    \n",
    "compa['op'] = compa['sale']-compa['cost']"
   ]
  },
  {
   "cell_type": "markdown",
   "metadata": {},
   "source": [
    "**Always look at your data...**"
   ]
  },
  {
   "cell_type": "code",
   "execution_count": null,
   "metadata": {},
   "outputs": [],
   "source": [
    "# Look at missings\n",
    "compa.op.isnull().mean()"
   ]
  },
  {
   "cell_type": "code",
   "execution_count": null,
   "metadata": {},
   "outputs": [],
   "source": [
    "compa[compa.fyear==2017].op.hist()"
   ]
  },
  {
   "cell_type": "code",
   "execution_count": null,
   "metadata": {},
   "outputs": [],
   "source": [
    "# Which was the most profitable company in 2017?\n",
    "compa.loc[compa[compa.fyear==2017].op.idxmax(),['gvkey','conm','op','be','at']]"
   ]
  },
  {
   "cell_type": "code",
   "execution_count": null,
   "metadata": {},
   "outputs": [],
   "source": [
    "# Plot\n",
    "compa[compa.gvkey=='001690'].set_index('fyear').op.plot(title = \"Apple's OP\", grid=True)"
   ]
  },
  {
   "cell_type": "code",
   "execution_count": null,
   "metadata": {},
   "outputs": [],
   "source": [
    "# Calculate OPBE\n",
    "compa.loc[(compa.be > 0), 'opbe'] = compa['op']/compa['be']"
   ]
  },
  {
   "cell_type": "markdown",
   "metadata": {},
   "source": [
    "**What do we do now?**"
   ]
  },
  {
   "cell_type": "markdown",
   "metadata": {},
   "source": [
    "Look at the data..."
   ]
  },
  {
   "cell_type": "code",
   "execution_count": null,
   "metadata": {},
   "outputs": [],
   "source": [
    "# Look at missings\n",
    "compa.opbe.isnull().mean()"
   ]
  },
  {
   "cell_type": "code",
   "execution_count": null,
   "metadata": {},
   "outputs": [],
   "source": [
    "# Be careful with ratios\n",
    "compa.opbe.hist()"
   ]
  },
  {
   "cell_type": "code",
   "execution_count": null,
   "metadata": {},
   "outputs": [],
   "source": [
    "# Plot\n",
    "compa[compa.gvkey=='001690'].set_index('fyear').opbe.plot(title = \"Apple's OPBE\", grid=True)"
   ]
  },
  {
   "cell_type": "markdown",
   "metadata": {},
   "source": [
    "## Investment (INV)\n",
    "\n",
    "Daniel, Mota, Rottke, Santos (RFS, 2020) OP definition:\n",
    "\n",
    "Total asset (AT) growth $(AT_t/AT_{t-1} - 1)$. \n",
    "\n",
    "We consider PERMCO as company's identification key. AT must be greater than zero to be not missing.\n"
   ]
  },
  {
   "cell_type": "code",
   "execution_count": null,
   "metadata": {},
   "outputs": [],
   "source": [
    "# Calculate lag assets and investment\n",
    "compa.sort_values(['gvkey', 'fyear'], inplace=True)\n",
    "compa['at_lag'] = compa.groupby('gvkey').at.shift(1)\n",
    "compa['inv'] = (compa['at'] - compa['at_lag']) / compa['at_lag']"
   ]
  },
  {
   "cell_type": "code",
   "execution_count": null,
   "metadata": {},
   "outputs": [],
   "source": [
    "compa.inv.max()"
   ]
  },
  {
   "cell_type": "code",
   "execution_count": null,
   "metadata": {},
   "outputs": [],
   "source": [
    "compa.inv.min()"
   ]
  },
  {
   "cell_type": "code",
   "execution_count": null,
   "metadata": {},
   "outputs": [],
   "source": [
    "compa.loc[compa.at_lag==0, 'inv'] = np.nan"
   ]
  },
  {
   "cell_type": "markdown",
   "metadata": {},
   "source": [
    "What if compa has missing years?"
   ]
  },
  {
   "cell_type": "code",
   "execution_count": null,
   "metadata": {},
   "outputs": [],
   "source": [
    "compa['fdiff'] = compa.groupby('gvkey').fyear.diff()"
   ]
  },
  {
   "cell_type": "code",
   "execution_count": null,
   "metadata": {},
   "outputs": [],
   "source": [
    "compa[(compa.fdiff>1)][['gvkey','fyear','fdiff', 'at','at_lag', 'inv']]"
   ]
  },
  {
   "cell_type": "code",
   "execution_count": null,
   "metadata": {},
   "outputs": [],
   "source": [
    "# Check one case of skipping years\n",
    "compa.loc[compa.gvkey=='005681',['gvkey','fyear','at','at_lag','inv','fdiff']]  "
   ]
  },
  {
   "cell_type": "code",
   "execution_count": null,
   "metadata": {},
   "outputs": [],
   "source": [
    "# Input missings\n",
    "filter_inv = (compa['at']<=0)|(compa['at_lag']<=0)|(compa.fdiff>1)\n",
    "compa.loc[filter_inv,['inv']] = np.nan\n",
    "del(filter_inv)"
   ]
  },
  {
   "cell_type": "code",
   "execution_count": null,
   "metadata": {},
   "outputs": [],
   "source": [
    "# Check one case of skipping years (again)\n",
    "compa.loc[compa.gvkey=='005681',['gvkey','fyear','at','at_lag','inv']]"
   ]
  },
  {
   "cell_type": "markdown",
   "metadata": {},
   "source": [
    "**What do we do now?**"
   ]
  },
  {
   "cell_type": "code",
   "execution_count": null,
   "metadata": {},
   "outputs": [],
   "source": [
    "# Look at missings\n",
    "compa.inv.isnull().mean()"
   ]
  },
  {
   "cell_type": "code",
   "execution_count": null,
   "metadata": {},
   "outputs": [],
   "source": [
    "# Be careful with ratios\n",
    "compa.loc[compa.inv>1e3,['gvkey','conm','fyear','at','at_lag','inv']]"
   ]
  },
  {
   "cell_type": "code",
   "execution_count": null,
   "metadata": {},
   "outputs": [],
   "source": [
    " # What explains such large inv?\n",
    "compa[compa.inv<10].inv.hist() "
   ]
  },
  {
   "cell_type": "markdown",
   "metadata": {},
   "source": [
    "# Is Asset Growth Investment?\n",
    "\n",
    "* See Cooper, Gulen, Schill, JF (2008);\n",
    "* What is asset growth capturing other than investment? \n",
    "    * Mergers;\n",
    "    * Issuance;\n",
    "    * Spin-offs.\n",
    "* Is it really investments that forecast future stock returns?"
   ]
  },
  {
   "cell_type": "code",
   "execution_count": null,
   "metadata": {},
   "outputs": [],
   "source": [
    "# A more traditional measure of investment: CAPX\n",
    "compa['inv_capx'] = compa['capx']/compa['at_lag']\n",
    "filter_inv_capx = (compa['capx']<=0)|(compa['at_lag']<=0)|(compa.fdiff>1)\n",
    "compa.loc[filter_inv_capx,'inv_capx']=np.nan"
   ]
  },
  {
   "cell_type": "code",
   "execution_count": null,
   "metadata": {},
   "outputs": [],
   "source": [
    "# Difference for Apple\n",
    "compa.loc[(compa.gvkey=='001690')&\n",
    "          (compa.fyear>=1985),['fyear','inv','inv_capx']\n",
    "         ].set_index(['fyear']).plot(title=\"Apple's Investment\") "
   ]
  },
  {
   "cell_type": "code",
   "execution_count": null,
   "metadata": {},
   "outputs": [],
   "source": [
    "compa.loc[(compa.gvkey=='001690')&\n",
    "          (compa.fyear>=1985),\n",
    "          ['fyear','inv_capx']\n",
    "         ].set_index(['fyear']).plot(title=\"Apple's Investment\")"
   ]
  },
  {
   "cell_type": "markdown",
   "metadata": {},
   "source": [
    "What else is in AT? For Apple, a big part is financial assets.\n",
    "\n",
    "Look at [Darmouni and Mota (2023)](https://www.corporategiants.net/)"
   ]
  },
  {
   "cell_type": "markdown",
   "metadata": {},
   "source": [
    "# Save Output"
   ]
  },
  {
   "cell_type": "code",
   "execution_count": null,
   "metadata": {},
   "outputs": [],
   "source": [
    "compa.to_pickle(path='compa_annual.pkl')\n",
    "compa.to_csv(path='compa_annual.csv', index=False)"
   ]
  },
  {
   "cell_type": "code",
   "execution_count": null,
   "metadata": {},
   "outputs": [],
   "source": [
    "# read in the pickle file\n",
    "#compa = pd.read_pickle('compa_annual.pkl')\n",
    "\n",
    "# obtain net repurchases as the increase in common treasury stock (Compustat item tstk) if the firm uses the treasury stock method. \n",
    "# This is the case if the firm has nonzero treasury stock in the current or prior year.\n",
    "# Otherwise, we measure repurchases as the difference between stock purchases (prstkc) and stock issuances (sstk). Now write the code for this.\n",
    "# first create a repurchase variable to be the increase in common treasury stock (tstk) if the firm uses the treasury stock method for each gvkey in year fyear\n",
    "#compa['repurchase'] = compa.groupby('gvkey').tstk.diff()\n",
    "# then fill in the repurchase variable with the difference between stock purchases (prstkc) and stock issuances (sstk) if the firm does not use the treasury stock method for each gvkey in year fyear\n",
    "#compa.loc[compa.repurchase.isnull(), 'repurchase'] = compa.prstkc - compa.sstk\n",
    "# check for repurchase variable\n",
    "#compa.repurchase.isnull().mean() \n",
    "\n",
    "# obtain average, sum, median share repurchase amount for banks each year for the sample period and output in table format\n",
    "#compa.groupby('fyear').agg({'repurchase': ['mean', 'sum', 'median']})\n",
    "# obtain counts of banks by year for the sample period and output in table format\n",
    "#compa.groupby('fyear').size()\n",
    "\n",
    "# obtain the list of bank names in year 2017 and output in table format\n",
    "#compa.loc[compa.fyear==2017, ['conm']]\n"
   ]
  },
  {
   "cell_type": "code",
   "execution_count": null,
   "metadata": {},
   "outputs": [],
   "source": []
  }
 ],
 "metadata": {
  "kernelspec": {
   "display_name": "Python 3",
   "language": "python",
   "name": "python3"
  },
  "language_info": {
   "codemirror_mode": {
    "name": "ipython",
    "version": 3
   },
   "file_extension": ".py",
   "mimetype": "text/x-python",
   "name": "python",
   "nbconvert_exporter": "python",
   "pygments_lexer": "ipython3",
   "version": "3.12.0"
  }
 },
 "nbformat": 4,
 "nbformat_minor": 2
}
